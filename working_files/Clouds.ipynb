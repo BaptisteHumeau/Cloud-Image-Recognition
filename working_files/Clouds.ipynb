{
 "cells": [
  {
   "cell_type": "code",
   "execution_count": 3,
   "id": "acef135b-481a-4070-a4e0-e07cc186c5cf",
   "metadata": {},
   "outputs": [],
   "source": [
    "import os"
   ]
  },
  {
   "cell_type": "code",
   "execution_count": 6,
   "id": "3bddd201-1803-4352-8422-60ef8cb8d76a",
   "metadata": {},
   "outputs": [
    {
     "name": "stdout",
     "output_type": "stream",
     "text": [
      "11\n"
     ]
    },
    {
     "data": {
      "text/plain": [
       "['Ac', 'As', 'Cb', 'Cc', 'Ci', 'Cs', 'Ct', 'Cu', 'Ns', 'Sc', 'St']"
      ]
     },
     "execution_count": 6,
     "metadata": {},
     "output_type": "execute_result"
    }
   ],
   "source": [
    "rootDir = \"CCSN_v2\"\n",
    "\n",
    "subDirs = []\n",
    "\n",
    "for item in os.listdir(rootDir):\n",
    "    item_path = os.path.join(rootDir, item)\n",
    "    if os.path.isdir(item_path):\n",
    "        subDirs.append(item)\n",
    "\n",
    "print(len(subDirs))\n",
    "subDirs\n"
   ]
  },
  {
   "cell_type": "code",
   "execution_count": 7,
   "id": "ce7b6ce7-f2df-49e1-a6d6-ec0bd35c048d",
   "metadata": {},
   "outputs": [
    {
     "name": "stdout",
     "output_type": "stream",
     "text": [
      "Renamed \"Ac\" to \"altocumulus\"\n",
      "Renamed \"As\" to \"altostratus\"\n",
      "Renamed \"Cb\" to \"cumulonimbus\"\n",
      "Renamed \"Cc\" to \"cirrocumulus\"\n",
      "Renamed \"Ci\" to \"cirrus\"\n",
      "Renamed \"Cs\" to \"cirrostratus\"\n",
      "Renamed \"Ct\" to \"contrail\"\n",
      "Renamed \"Cu\" to \"cumulus\"\n",
      "Renamed \"Ns\" to \"nimbostratus\"\n",
      "Renamed \"Sc\" to \"stratocumulus\"\n",
      "Renamed \"St\" to \"stratus\"\n"
     ]
    }
   ],
   "source": [
    "name_mapping = {\n",
    "    \"Ci\": \"cirrus\",\n",
    "    \"Cs\": \"cirrostratus\",\n",
    "    \"Cc\": \"cirrocumulus\",\n",
    "    \"Ac\": \"altocumulus\",\n",
    "    \"As\": \"altostratus\",\n",
    "    \"Cu\": \"cumulus\",\n",
    "    \"Cb\": \"cumulonimbus\",\n",
    "    \"Ns\": \"nimbostratus\",\n",
    "    \"Sc\": \"stratocumulus\",\n",
    "    \"St\": \"stratus\",\n",
    "    \"Ct\": \"contrail\"\n",
    "}\n",
    "\n",
    "for item in os.listdir(rootDir):\n",
    "    item_path = os.path.join(rootDir, item)\n",
    "    if os.path.isdir(item_path) and item in name_mapping:\n",
    "        new_name = name_mapping[item]\n",
    "        new_path = os.path.join(rootDir, new_name)\n",
    "        os.rename(item_path, new_path)\n",
    "        print(f'Renamed \"{item}\" to \"{new_name}\"')"
   ]
  },
  {
   "cell_type": "code",
   "execution_count": 10,
   "id": "be497e08-d3f9-4401-9316-840c8dae4d68",
   "metadata": {},
   "outputs": [
    {
     "data": {
      "text/plain": [
       "['altocumulus',\n",
       " 'altostratus',\n",
       " 'cirrocumulus',\n",
       " 'cirrostratus',\n",
       " 'cirrus',\n",
       " 'contrail',\n",
       " 'cumulonimbus',\n",
       " 'cumulus',\n",
       " 'nimbostratus',\n",
       " 'stratocumulus',\n",
       " 'stratus']"
      ]
     },
     "execution_count": 10,
     "metadata": {},
     "output_type": "execute_result"
    }
   ],
   "source": [
    "subDirs.clear()\n",
    "\n",
    "for item in os.listdir(rootDir):\n",
    "    item_path = os.path.join(rootDir, item)\n",
    "    if os.path.isdir(item_path):\n",
    "        subDirs.append(item)\n",
    "\n",
    "subDirs"
   ]
  },
  {
   "cell_type": "code",
   "execution_count": 11,
   "id": "29848bb1-87b1-4a5e-9fab-8196ae65fc9e",
   "metadata": {},
   "outputs": [],
   "source": [
    "import tensorflow as tf\n",
    "from tensorflow.keras.preprocessing.image import ImageDataGenerator"
   ]
  },
  {
   "cell_type": "code",
   "execution_count": 12,
   "id": "b4da7fe5-389f-404f-b617-f5cfc94e0724",
   "metadata": {},
   "outputs": [
    {
     "name": "stdout",
     "output_type": "stream",
     "text": [
      "Found 2039 images belonging to 11 classes.\n",
      "Found 504 images belonging to 11 classes.\n"
     ]
    }
   ],
   "source": [
    "img_width, img_height = 150, 150\n",
    "batch_size = 32\n",
    "\n",
    "train_datagen = ImageDataGenerator(\n",
    "    rescale=1.0/255,\n",
    "    shear_range=0.2,\n",
    "    zoom_range=0.2,\n",
    "    horizontal_flip=True,\n",
    "    validation_split=0.2  \n",
    ")\n",
    "\n",
    "train_generator = train_datagen.flow_from_directory(\n",
    "    rootDir,\n",
    "    target_size=(img_width, img_height),\n",
    "    batch_size=batch_size,\n",
    "    class_mode='categorical',\n",
    "    subset='training'  \n",
    ")\n",
    "\n",
    "validation_generator = train_datagen.flow_from_directory(\n",
    "    rootDir,\n",
    "    target_size=(img_width, img_height),\n",
    "    batch_size=batch_size,\n",
    "    class_mode='categorical',\n",
    "    subset='validation' \n",
    ")"
   ]
  },
  {
   "cell_type": "code",
   "execution_count": 18,
   "id": "3ac20e94-cfac-4fee-8b3f-15797e20a299",
   "metadata": {},
   "outputs": [
    {
     "name": "stdout",
     "output_type": "stream",
     "text": [
      "Model: \"sequential_1\"\n",
      "_________________________________________________________________\n",
      " Layer (type)                Output Shape              Param #   \n",
      "=================================================================\n",
      " conv2d_3 (Conv2D)           (None, 148, 148, 32)      896       \n",
      "                                                                 \n",
      " max_pooling2d_3 (MaxPoolin  (None, 74, 74, 32)        0         \n",
      " g2D)                                                            \n",
      "                                                                 \n",
      " conv2d_4 (Conv2D)           (None, 72, 72, 64)        18496     \n",
      "                                                                 \n",
      " max_pooling2d_4 (MaxPoolin  (None, 36, 36, 64)        0         \n",
      " g2D)                                                            \n",
      "                                                                 \n",
      " conv2d_5 (Conv2D)           (None, 34, 34, 128)       73856     \n",
      "                                                                 \n",
      " max_pooling2d_5 (MaxPoolin  (None, 17, 17, 128)       0         \n",
      " g2D)                                                            \n",
      "                                                                 \n",
      " flatten_1 (Flatten)         (None, 36992)             0         \n",
      "                                                                 \n",
      " dense_2 (Dense)             (None, 512)               18940416  \n",
      "                                                                 \n",
      " dropout_1 (Dropout)         (None, 512)               0         \n",
      "                                                                 \n",
      " dense_3 (Dense)             (None, 11)                5643      \n",
      "                                                                 \n",
      "=================================================================\n",
      "Total params: 19039307 (72.63 MB)\n",
      "Trainable params: 19039307 (72.63 MB)\n",
      "Non-trainable params: 0 (0.00 Byte)\n",
      "_________________________________________________________________\n"
     ]
    }
   ],
   "source": [
    "from tensorflow.keras.models import Sequential\n",
    "from tensorflow.keras.layers import Conv2D, MaxPooling2D, Flatten, Dense, Dropout\n",
    "\n",
    "img_width, img_height = 150, 150\n",
    "\n",
    "num_classes = len(train_generator.class_indices)\n",
    "\n",
    "model = Sequential([\n",
    "    Conv2D(32, (3, 3), activation='relu', input_shape=(img_width, img_height, 3)),\n",
    "    MaxPooling2D(pool_size=(2, 2)),\n",
    "\n",
    "    Conv2D(64, (3, 3), activation='relu'),\n",
    "    MaxPooling2D(pool_size=(2, 2)),\n",
    "\n",
    "    Conv2D(128, (3, 3), activation='relu'),\n",
    "    MaxPooling2D(pool_size=(2, 2)),\n",
    "\n",
    "    Flatten(),\n",
    "    Dense(512, activation='relu'),\n",
    "    Dropout(0.5),\n",
    "    Dense(num_classes, activation='softmax')  \n",
    "\n",
    "model.compile(optimizer='adam', loss='categorical_crossentropy', metrics=['accuracy'])\n",
    "\n",
    "model.summary()\n"
   ]
  },
  {
   "cell_type": "code",
   "execution_count": 19,
   "id": "fe806e23-8282-4cef-83e4-775b404b6691",
   "metadata": {},
   "outputs": [
    {
     "name": "stdout",
     "output_type": "stream",
     "text": [
      "Epoch 1/20\n",
      "63/63 [==============================] - 68s 1s/step - loss: 2.3082 - accuracy: 0.1674 - val_loss: 2.0445 - val_accuracy: 0.2417\n",
      "Epoch 2/20\n",
      "63/63 [==============================] - 47s 736ms/step - loss: 2.1479 - accuracy: 0.2277 - val_loss: 2.0426 - val_accuracy: 0.2229\n",
      "Epoch 3/20\n",
      "63/63 [==============================] - 51s 814ms/step - loss: 2.0832 - accuracy: 0.2591 - val_loss: 1.9972 - val_accuracy: 0.2875\n",
      "Epoch 4/20\n",
      "63/63 [==============================] - 54s 860ms/step - loss: 2.0230 - accuracy: 0.2970 - val_loss: 2.0035 - val_accuracy: 0.2750\n",
      "Epoch 5/20\n",
      "63/63 [==============================] - 83s 1s/step - loss: 1.9266 - accuracy: 0.3398 - val_loss: 1.9480 - val_accuracy: 0.3146\n",
      "Epoch 6/20\n",
      "63/63 [==============================] - 100s 2s/step - loss: 1.8828 - accuracy: 0.3572 - val_loss: 1.9799 - val_accuracy: 0.2917\n",
      "Epoch 7/20\n",
      "63/63 [==============================] - 90s 1s/step - loss: 1.8352 - accuracy: 0.3787 - val_loss: 2.0789 - val_accuracy: 0.2833\n",
      "Epoch 8/20\n",
      "63/63 [==============================] - 93s 1s/step - loss: 1.7818 - accuracy: 0.3767 - val_loss: 1.9707 - val_accuracy: 0.3104\n",
      "Epoch 9/20\n",
      "63/63 [==============================] - 120s 2s/step - loss: 1.7532 - accuracy: 0.4011 - val_loss: 2.0376 - val_accuracy: 0.3104\n",
      "Epoch 10/20\n",
      "63/63 [==============================] - 95s 2s/step - loss: 1.7151 - accuracy: 0.4031 - val_loss: 1.9908 - val_accuracy: 0.2958\n",
      "Epoch 11/20\n",
      "63/63 [==============================] - 90s 1s/step - loss: 1.7131 - accuracy: 0.4205 - val_loss: 2.2164 - val_accuracy: 0.3000\n",
      "Epoch 12/20\n",
      "63/63 [==============================] - 99s 2s/step - loss: 1.6669 - accuracy: 0.4390 - val_loss: 2.0288 - val_accuracy: 0.2771\n",
      "Epoch 13/20\n",
      "63/63 [==============================] - 97s 2s/step - loss: 1.6545 - accuracy: 0.4310 - val_loss: 2.0120 - val_accuracy: 0.2917\n",
      "Epoch 14/20\n",
      "63/63 [==============================] - 102s 2s/step - loss: 1.6130 - accuracy: 0.4395 - val_loss: 2.1026 - val_accuracy: 0.2833\n",
      "Epoch 15/20\n",
      "63/63 [==============================] - 84s 1s/step - loss: 1.5723 - accuracy: 0.4574 - val_loss: 2.0591 - val_accuracy: 0.2833\n",
      "Epoch 16/20\n",
      "63/63 [==============================] - 92s 1s/step - loss: 1.4986 - accuracy: 0.4908 - val_loss: 2.2345 - val_accuracy: 0.2750\n",
      "Epoch 17/20\n",
      "63/63 [==============================] - 89s 1s/step - loss: 1.4850 - accuracy: 0.4973 - val_loss: 2.2197 - val_accuracy: 0.2688\n",
      "Epoch 18/20\n",
      "63/63 [==============================] - 86s 1s/step - loss: 1.4541 - accuracy: 0.5132 - val_loss: 2.1587 - val_accuracy: 0.2562\n",
      "Epoch 19/20\n",
      "63/63 [==============================] - 91s 1s/step - loss: 1.4100 - accuracy: 0.5122 - val_loss: 2.3096 - val_accuracy: 0.3208\n",
      "Epoch 20/20\n",
      "63/63 [==============================] - 92s 1s/step - loss: 1.3270 - accuracy: 0.5426 - val_loss: 2.2734 - val_accuracy: 0.2833\n"
     ]
    }
   ],
   "source": [
    "epochs = 20\n",
    "\n",
    "history = model.fit(\n",
    "    train_generator,\n",
    "    steps_per_epoch=train_generator.samples // batch_size,\n",
    "    validation_data=validation_generator,\n",
    "    validation_steps=validation_generator.samples // batch_size,\n",
    "    epochs=epochs\n",
    ")\n"
   ]
  },
  {
   "cell_type": "code",
   "execution_count": 20,
   "id": "f4d78878-d239-4170-b21d-c91db9b1e165",
   "metadata": {},
   "outputs": [
    {
     "data": {
      "image/png": "[encoded data removed]",
      "text/plain": [
       "<Figure size 1200x400 with 2 Axes>"
      ]
     },
     "metadata": {},
     "output_type": "display_data"
    }
   ],
   "source": [
    "import matplotlib.pyplot as plt\n",
    "\n",
    "plt.figure(figsize=(12, 4))\n",
    "plt.subplot(1, 2, 1)\n",
    "plt.plot(history.history['accuracy'])\n",
    "plt.plot(history.history['val_accuracy'])\n",
    "plt.title('Model accuracy')\n",
    "plt.ylabel('Accuracy')\n",
    "plt.xlabel('Epoch')\n",
    "plt.legend(['Train', 'Validation'], loc='upper left')\n",
    "\n",
    "plt.subplot(1, 2, 2)\n",
    "plt.plot(history.history['loss'])\n",
    "plt.plot(history.history['val_loss'])\n",
    "plt.title('Model loss')\n",
    "plt.ylabel('Loss')\n",
    "plt.xlabel('Epoch')\n",
    "plt.legend(['Train', 'Validation'], loc='upper left')\n",
    "\n",
    "plt.show()\n"
   ]
  },
  {
   "cell_type": "code",
   "execution_count": null,
   "id": "6ec6d4a2-471e-42b0-8f4b-31ab880bdf3b",
   "metadata": {},
   "outputs": [],
   "source": [
    "model.save('../models/cloud_classification_model_1.keras')"
   ]
  },
  {
   "cell_type": "code",
   "execution_count": null,
   "id": "81559c9d-6102-46c3-b97c-412542110fc1",
   "metadata": {},
   "outputs": [],
   "source": []
  }
 ],
 "metadata": {
  "kernelspec": {
   "display_name": "Python 3 (ipykernel)",
   "language": "python",
   "name": "python3"
  },
  "language_info": {
   "codemirror_mode": {
    "name": "ipython",
    "version": 3
   },
   "file_extension": ".py",
   "mimetype": "text/x-python",
   "name": "python",
   "nbconvert_exporter": "python",
   "pygments_lexer": "ipython3",
   "version": "3.11.5"
  }
 },
 "nbformat": 4,
 "nbformat_minor": 5
}
